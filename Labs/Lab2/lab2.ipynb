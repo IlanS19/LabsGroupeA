{
 "cells": [
  {
   "cell_type": "markdown",
   "metadata": {},
   "source": [
    "# Practical session 2 - Practise with classic libraries\n",
    "\n",
    "Students (pair):\n",
    "- [Hugo Jouan]([link](https://github.com/hugojou))\n",
    "- [Ilan Sarfati]([link](https://github.com/IlanS19))"
   ]
  },
  {
   "cell_type": "markdown",
   "metadata": {},
   "source": [
    "**Useful references for this lab**:\n",
    "\n",
    "[1] `numpy`: [lecture notes (1.4.1-1.4.2)](https://scipy-lectures.org/intro/numpy/index.html) and [documentation](https://numpy.org/doc/stable/)\n",
    "\n",
    "[2] `pandas`: [documentation](https://pandas.pydata.org/docs/getting_started/index.html), [quick tutorial](https://pandas.pydata.org/pandas-docs/version/0.15/10min.html)\n",
    "\n",
    "[3] `matplotlib`: [lecture notes (1.5)](https://scipy-lectures.org/intro/matplotlib/index.html) and [documentation](https://matplotlib.org/)\n",
    "\n",
    "[4] `h5py`: [quick start guide](http://docs.h5py.org/en/stable/quick.html#quick)"
   ]
  },
  {
   "cell_type": "markdown",
   "metadata": {},
   "source": [
    "## <a name=\"content\">Contents</a>\n",
    "- [Exercise 1: Computing basic statistics](#ex1)\n",
    "- [Exercise 2: Random variables and histograms](#ex2)\n",
    "- [Exercise 3: Discrete isotropic total variation](#ex3)\n",
    "---"
   ]
  },
  {
   "cell_type": "code",
   "execution_count": 36,
   "metadata": {},
   "outputs": [],
   "source": [
    "%load_ext autoreload\n",
    "%autoreload 2"
   ]
  },
  {
   "cell_type": "markdown",
   "metadata": {},
   "source": [
    "---\n",
    "## <a name=\"ex1\">Exercise 1: Random variables and histograms</a>\n",
    "\n",
    "In this exercise, we are interested in generating samples from the Gamma distribution $\\mathcal{G}(\\alpha,\\beta)$, of probability density function (pdf)\n",
    "\n",
    "\\begin{equation}\n",
    "    p(x) = \\frac{\\beta^\\alpha}{\\Gamma(\\alpha)} x^{\\alpha-1} \\exp(-\\beta x) \\mathbb{1}_{\\mathbb{R}_+^*}(x),\n",
    "\\end{equation}\n",
    "\n",
    "and displaying their histogram. In the following, we consider $(\\alpha, \\beta) = (9, 2)$.\n",
    "\n",
    "1\\. Set the random seed to a fixed value for reproducibility, and biefly check your instruction works as intended.\n",
    "> Hint: you may take a look at the following pages: [random module](https://numpy.org/doc/stable/reference/random/index.html?highlight=random#module-numpy.random), [random generator](https://numpy.org/doc/stable/reference/random/generator.html)."
   ]
  },
  {
   "cell_type": "markdown",
   "metadata": {},
   "source": [
    "**Answer**:"
   ]
  },
  {
   "cell_type": "code",
   "execution_count": 37,
   "metadata": {},
   "outputs": [
    {
     "name": "stdout",
     "output_type": "stream",
     "text": [
      "[0.37454012 0.95071431 0.73199394 0.59865848 0.15601864]\n"
     ]
    }
   ],
   "source": [
    "import numpy as np\n",
    "import matplotlib.pyplot as plt\n",
    "\n",
    "# Définir le nombre aléatoire pour la reproductibilité, on teste la reproductibilité avec la fonction random.rand\n",
    "\n",
    "np.random.seed(42)\n",
    "random_numbers = np.random.rand(5)\n",
    "print(random_numbers)"
   ]
  },
  {
   "cell_type": "code",
   "execution_count": 38,
   "metadata": {},
   "outputs": [
    {
     "name": "stdout",
     "output_type": "stream",
     "text": [
      "[0.37454012 0.95071431 0.73199394 0.59865848 0.15601864]\n"
     ]
    }
   ],
   "source": [
    "np.random.seed(42)\n",
    "random_numbers = np.random.rand(5)\n",
    "print(random_numbers)\n",
    "\n",
    "#on a bien vérifié la reproductibilité "
   ]
  },
  {
   "cell_type": "markdown",
   "metadata": {},
   "source": [
    "2\\. Generate $\\approx 10^5$ samples in a vector. Save the vector in a file, `samples.hdf5` or `samples.npy`.\n",
    "> Warning / hint: \n",
    "> - take a careful look at the [documentation](https://numpy.org/doc/stable/reference/random/generated/numpy.random.gamma.html?highlight=gamma#numpy.random.gamma) (multiple conventions exist for the definition of the pdf underlying the distribution...);\n",
    "> - to save data in a `npy` file, take a look at the example reported in the [Numpy documentation](https://numpy.org/doc/stable/reference/generated/numpy.save.html);\n",
    "> - to save data in a `.h5` file, take a quick look at the [documentation here](https://docs.h5py.org/en/stable/quick.html#quick)."
   ]
  },
  {
   "cell_type": "markdown",
   "metadata": {},
   "source": [
    "**Answer**:"
   ]
  },
  {
   "cell_type": "code",
   "execution_count": 39,
   "metadata": {},
   "outputs": [],
   "source": [
    "np.random.seed(42)\n",
    "\n",
    "# Paramètres de la distribution Gamma\n",
    "alpha = 9  # Paramètre alpha (forme)\n",
    "beta = 2   # Paramètre beta (échelle)\n",
    "\n",
    "# Générer des échantillons (10^5) de la distribution Gamma\n",
    "num_samples = int(1e5)\n",
    "samples = np.random.gamma(alpha, 1/beta, num_samples)\n",
    "\n",
    "# Sauvegarder les échantillons dans un fichier .npy\n",
    "np.save(\"samples.npy\", samples)"
   ]
  },
  {
   "cell_type": "markdown",
   "metadata": {},
   "source": [
    "3\\. Estimate an histogram of this distribution for a well chosen set of bins, and display it.\n",
    "> Warnings: \n",
    "> - make sure the [histogram](https://matplotlib.org/api/_as_gen/matplotlib.pyplot.hist.html?highlight=hist#matplotlib.pyplot.hist) corresponds to a probability density function (pdf);\n",
    "> - do not forget to include a proper title with names for the axes."
   ]
  },
  {
   "cell_type": "markdown",
   "metadata": {},
   "source": [
    "**Answer**:"
   ]
  },
  {
   "cell_type": "code",
   "execution_count": 40,
   "metadata": {},
   "outputs": [
    {
     "data": {
      "image/png": "[encoded data removed]",
      "text/plain": [
       "<Figure size 640x480 with 1 Axes>"
      ]
     },
     "metadata": {},
     "output_type": "display_data"
    }
   ],
   "source": [
    "# Charger les échantillons à partir du fichier .npy \n",
    "samples = np.load(\"samples.npy\")\n",
    "\n",
    "# l'histogramme de la distribution\n",
    "# Utiliser 100 bins pour une courbe assez lisse\n",
    "bins = 100\n",
    "plt.hist(samples, bins=bins, density=True, color='green')\n",
    "\n",
    "\n",
    "plt.title(\"Histogramme des échantillons de la distribution Gamma (α=9, β=2)\")\n",
    "plt.xlabel(\"Valeur des échantillons\")\n",
    "plt.ylabel(\"Densité\")\n",
    "\n",
    "plt.show()"
   ]
  },
  {
   "cell_type": "markdown",
   "metadata": {},
   "source": [
    "4\\. Overlay the probability density function on the histogram and compare these in a few words. Save the resulting picture in `.png` format.\n",
    "> Hint: \n",
    "> - take a look at the `scipy` [documentation](https://docs.scipy.org/doc/scipy/reference/stats.html) to avoid implementing the pdf from scratch;\n",
    "> - return the bins in which the histogram is computed, and evaluate the pdf on those points."
   ]
  },
  {
   "cell_type": "markdown",
   "metadata": {},
   "source": [
    "**Answer**:"
   ]
  },
  {
   "cell_type": "code",
   "execution_count": 41,
   "metadata": {},
   "outputs": [
    {
     "data": {
      "image/png": "[encoded data removed]",
      "text/plain": [
       "<Figure size 640x480 with 1 Axes>"
      ]
     },
     "metadata": {},
     "output_type": "display_data"
    }
   ],
   "source": [
    "\n",
    "\n",
    "from scipy.stats import gamma\n",
    "\n",
    "\n",
    "\n",
    "# Paramètres de la distribution Gamma\n",
    "alpha = 9  \n",
    "beta = 2   \n",
    "\n",
    "# Tracer l'histogramme des échantillons générés\n",
    "plt.hist(samples, bins=100, density=True, color='blue', label='Histogramme des échantillons')\n",
    "\n",
    "# Générer une plage de valeurs x pour la fonction PDF\n",
    "x = np.linspace(0, np.max(samples), 1000)\n",
    "\n",
    "# Calculer la PDF théorique de la distribution Gamma\n",
    "pdf = gamma.pdf(x, a=alpha, scale=1/beta)\n",
    "\n",
    "# Superposer la courbe de la PDF théorique\n",
    "plt.plot(x, pdf, 'r-', lw=2, label='Fonction de densité théorique')\n",
    "\n",
    "# Ajouter des titres, légendes et labels\n",
    "plt.title(\"Histogramme des échantillons et PDF de la distribution Gamma (α=9, β=2)\")\n",
    "plt.xlabel(\"Valeur des échantillons\")\n",
    "plt.ylabel(\"Densité\")\n",
    "plt.legend()\n",
    "\n",
    "# Sauvegarder l'image au format .png\n",
    "plt.savefig(\"gamma_histogram.png\")\n",
    "\n",
    "# Afficher le graphique\n",
    "plt.show()"
   ]
  },
  {
   "cell_type": "markdown",
   "metadata": {},
   "source": [
    "---\n",
    "## <a name=\"ex2\">Exercise 2: Basic statistics with `pandas`</a>\n",
    "\n",
    "In this second exercise, we focus on computing basic statistics, and applying linear regression to a small data set. These data are gathered in the following table, which gives the infant mortality (`X`) and the gross national product per inhabitant (`Y`) of 12 european countries :\n",
    "\n",
    "| `X` | 190 | 128 | 180 | 212 | 56 | 192 | 68 | 98 | 110 | 197 | 181 | 233 |\n",
    "|-----|-----|-----|-----|----|-----|----|----|-----|-----|-----|-----|-----|\n",
    "| `Y` |  24 |  28 |  24 | 19 |  37 | 22 | 34 |  25 |  36 |  24 |  20 |  18 |\n",
    "\n",
    "1\\. For `X `and `Y`, compute the median, mean, variance and standard deviation. The data points have already been entered into a `.csv` file stored in `data/data.csv`.\n",
    "> Hint: \n",
    "> - you can directly use `pandas` to load the data into a `DataFrame` ([`pd.read_csv`](https://pandas.pydata.org/docs/reference/frame.html));\n",
    "> - take a look at the built-in operations available for `DataFrame` objects ([documentation](https://pandas.pydata.org/docs/reference/frame.html));\n",
    "> - to display a `DataFrame` `f`:\n",
    "> ```python \n",
    "> from IPython.display import display\n",
    "> display(df)\n",
    "> ```\n",
    "> - sort the `DataFrame` with respect to the value of `X` (see [here](https://pandas.pydata.org/docs/reference/api/pandas.DataFrame.sort_values.html#pandas.DataFrame.sort_values)) This will be useful for question 3."
   ]
  },
  {
   "cell_type": "markdown",
   "metadata": {},
   "source": [
    "**Answer**:"
   ]
  },
  {
   "cell_type": "code",
   "execution_count": 42,
   "metadata": {},
   "outputs": [
    {
     "name": "stdout",
     "output_type": "stream",
     "text": [
      "Statistiques pour X:\n",
      "Median: 180.5\n",
      "Mean: 153.75\n",
      "Variance: 3486.0227272727275\n",
      "Standard Deviation: 59.04255014201815\n",
      "\n",
      "Statistiques pour Y:\n",
      "Median: 24.0\n",
      "Mean: 25.916666666666668\n",
      "Variance: 42.4469696969697\n",
      "Standard Deviation: 6.5151338970868204\n"
     ]
    }
   ],
   "source": [
    "import pandas as pd\n",
    "\n",
    "# Lire les données depuis le fichier CSV\n",
    "data = pd.read_csv('data/data.csv')\n",
    "\n",
    "X = data['X']\n",
    "Y = data['Y']\n",
    "\n",
    "# Calculer la médiane, la moyenne, la variance et l'écart type pour X\n",
    "statistics_X = {\n",
    "    'Median': X.median(),\n",
    "    'Mean': X.mean(),\n",
    "    'Variance': X.var(),\n",
    "    'Standard Deviation': X.std()\n",
    "}\n",
    "\n",
    "# Calculer la médiane, la moyenne, la variance et l'écart type pour Y\n",
    "\n",
    "statistics_Y = {\n",
    "    'Median': Y.median(),\n",
    "    'Mean': Y.mean(),\n",
    "    'Variance': Y.var(),\n",
    "    'Standard Deviation': Y.std()\n",
    "}\n",
    "\n",
    "# Afficher les résultats\n",
    "\n",
    "print(\"Statistiques pour X:\")\n",
    "for stat, value in statistics_X.items():\n",
    "    print(f\"{stat}: {value}\")\n",
    "\n",
    "print(\"\\nStatistiques pour Y:\")\n",
    "for stat, value in statistics_Y.items():\n",
    "    print(f\"{stat}: {value}\")"
   ]
  },
  {
   "cell_type": "markdown",
   "metadata": {},
   "source": [
    "2\\. Give the equation of the regression line of `Y` as a function of `X`.\n",
    "> Hint: \n",
    "> - take a look at the functionalities available in `numpy` (e.g., `np.polyfit` and `np.polyval`);\n",
    "> - if needed, note that you can retrieve the data from the resulting `pandas` `DataFrame` with the `to_numpy()` method."
   ]
  },
  {
   "cell_type": "markdown",
   "metadata": {},
   "source": [
    "**Answer**:"
   ]
  },
  {
   "cell_type": "code",
   "execution_count": 43,
   "metadata": {},
   "outputs": [
    {
     "name": "stdout",
     "output_type": "stream",
     "text": [
      "L'équation de la droite de régression est : Y = -0.0982 * X + 41.0095\n"
     ]
    }
   ],
   "source": [
    "#Conversion des dataframes pandas en array numpy\n",
    "X = data['X'].to_numpy()\n",
    "Y = data['Y'].to_numpy()\n",
    "\n",
    "# Calculer les coefficients de la régression linéaire\n",
    "coefficients = np.polyfit(X, Y, 1)  # 1 pour une droite (degré 1)\n",
    "\n",
    "# Extraire la pente (a) et l'ordonnée à l'origine (b)\n",
    "a, b = coefficients\n",
    "\n",
    "# Afficher l'équation de la droite de régression\n",
    "print(f\"L'équation de la droite de régression est : Y = {a:.4f} * X + {b:.4f}\")"
   ]
  },
  {
   "cell_type": "markdown",
   "metadata": {},
   "source": [
    "3\\. Display the cloud of points and the regression line $Y = f(X)$ on the same figure. Save the figure in `.png` format."
   ]
  },
  {
   "cell_type": "markdown",
   "metadata": {},
   "source": [
    "**Answer**:"
   ]
  },
  {
   "cell_type": "code",
   "execution_count": 44,
   "metadata": {},
   "outputs": [
    {
     "data": {
      "image/png": "[encoded data removed]",
      "text/plain": [
       "<Figure size 640x480 with 1 Axes>"
      ]
     },
     "metadata": {},
     "output_type": "display_data"
    }
   ],
   "source": [
    "import pandas as pd\n",
    "import numpy as np\n",
    "import matplotlib.pyplot as plt\n",
    "\n",
    "a, b = coefficients\n",
    "\n",
    "# Créer des valeurs prédites pour la régression\n",
    "Y_pred = np.polyval(coefficients, X)\n",
    "\n",
    "# Tracer le nuage de points\n",
    "plt.scatter(X, Y, color='blue', label='Données observées')\n",
    "\n",
    "# Tracer la ligne de régression\n",
    "plt.plot(X, Y_pred, color='red', label='Ligne de régression')\n",
    "\n",
    "# Ajouter des titres et des labels\n",
    "plt.title(\"Nuage de points et ligne de régression\")\n",
    "plt.xlabel(\"Mortalité infantile \")\n",
    "plt.ylabel(\"Produit National Brut par habitant \")\n",
    "plt.legend()\n",
    "\n",
    "# Sauvegarder l'image au format .png\n",
    "plt.savefig(\"regression_plot.png\")\n",
    "\n",
    "# Afficher le graphique\n",
    "plt.show()"
   ]
  },
  {
   "cell_type": "markdown",
   "metadata": {},
   "source": [
    "---\n",
    "## <a name=\"ex3\">Exercise 3: Discrete isotropic total variation</a>\n",
    "\n",
    "This exercise is devoted to the computation of the discrete isotropic total variation (TV) of an input matrix $\\mathbf{X} = [\\mathbf{x}_n]_{1 \\leq n \\leq N} \\in\\mathbb{C}^{M \\times N}$, which is particularly useful in Bayesian inference (e.g., for inverse problems) to promote piece-wise smooth solutions. The TV is defined as\n",
    "\n",
    "\\begin{equation*}\n",
    "    \\text{TV}(\\mathbf{X}) = \\Vert D(\\mathbf{X}) \\Vert_{1,2} = \\sum_{m=1}^M \\sum_{n=1}^N \\sqrt{[\\mathbf{XD}_h]^2_{m,n} + [\\mathbf{D}_v\\mathbf{X}]^2_{m,n}},\n",
    "\\end{equation*}\n",
    "\n",
    "where $[\\mathbf{Z}]_{m,n}$ denotes the elements in position $(m,n)$ of the matrix $\\mathbf{Z}$,\n",
    "\n",
    "\\begin{align*}\n",
    "    D(X) &= (\\mathbf{XD}_h, \\mathbf{D}_v\\mathbf{X}) \\in \\mathbb{C}^{M\\times N} \\times \\mathbb{C}^{M\\times N} \\\\\n",
    "    %\n",
    "    \\mathbf{XD}_h &= [\\mathbf{x}_2-\\mathbf{x}_1, \\dotsc, \\mathbf{x}_N-\\mathbf{x}_{N-1}, \\mathbf{0}_M] \\in \\mathbb{C}^{M\\times N} \\\\\n",
    "    %\n",
    "    \\mathbf{D}_v\\mathbf{X} &= [\\tilde{\\mathbf{x}}_2^T-\\tilde{\\mathbf{x}}^T_1, \\dotsc, \\tilde{\\mathbf{x}}^T_M-\\tilde{\\mathbf{x}}^T_{M-1}, \\mathbf{0}_N]^T \\in \\mathbb{C}^{M\\times N},\n",
    "\\end{align*}\n",
    "\n",
    "$\\mathbf{x}_n \\in \\mathbb{C}^{M}$ is the $n$-th column of $\\mathbf{X}$, and $\\tilde{\\mathbf{x}}_m \\in \\mathbb{C}^{1\\times N}$ is the $m$-th row of $\\mathbf{X}$. \n",
    "The linear operator $D: \\mathbb{C}^{M\\times N} \\rightarrow \\mathbb{C}^{M\\times N} \\times \\mathbb{C}^{M\\times N} $ is the discrete gradient operator. The adjoint of $D$, $D^*: \\mathbb{C}^{M\\times N} \\times \\mathbb{C}^{M\\times N} \\rightarrow \\mathbb{C}^{M\\times N}$, is given by\n",
    "\n",
    "\\begin{align*}\n",
    "    (\\forall \\mathbf{Y} = (\\mathbf{Y}_h,\\mathbf{Y}_v)), \\quad D^*(\\mathbf{Y}) &= \\mathbf{Y}_h\\mathbf{D}^*_h + \\mathbf{D}^*_v\\mathbf{Y}_v \\\\\n",
    "    %\n",
    "    \\mathbf{Y}_h\\mathbf{D}^*_h &= \\big[-\\mathbf{y}_{h,1},- [\\mathbf{y}_{h,n}-\\mathbf{y}_{h,n-1}]_{2 \\leq n \\leq N-1}, \\mathbf{y}_{h, N-1} \\big] \\\\\n",
    "    %\n",
    "    \\mathbf{D}^*_v\\mathbf{Y}_v &= \\big[-\\tilde{\\mathbf{y}}_{v,1}^T,- [\\tilde{\\mathbf{y}}_{v,m}^T-\\tilde{\\mathbf{y}}^T_{v,m-1}]_{2 \\leq m \\leq M-1}, \\tilde{\\mathbf{y}}^T_{v, M-1} \\big]^T\n",
    "\\end{align*}\n",
    "\n",
    "where $\\mathbf{y}_{h,n}$ is the $n$-th column of $\\mathbf{Y}_h$, and $\\tilde{\\mathbf{x}}_{v,m}$ is the $m$-th row of $\\mathbf{Y}_v$.\n",
    "\n",
    "1\\. Using `numpy`, implement a function `gradient2D` to compute the 2D discrete gradient operator $D$ applied to a matrix $\\mathbf{X}\\in\\mathbb{C}^{M \\times N}$ (no for loops!). Trigger an error message whenever the input array has more than 2 dimensions. If not clear from the implementation, add a few short comments to explain your code.\n",
    "\n",
    "> Hint: \n",
    "> - to trigger an error, you can for instance use an `assert` statement, or raise an [exception (e.g., `AssertionError`)](https://docs.python.org/3/library/exceptions.html);\n",
    "> - only a few operations are needed: computing vertical differences, horizontal differences, and possibly a concatenation of matrices into a single tensor (= n-dimensional array);\n",
    "> - possibly useful functions: `np.diff`, `np.c_`, `np.r_` (or `np.concatenate`). "
   ]
  },
  {
   "cell_type": "markdown",
   "metadata": {},
   "source": [
    "**Answer**:"
   ]
  },
  {
   "cell_type": "code",
   "execution_count": 45,
   "metadata": {},
   "outputs": [],
   "source": [
    "import numpy as np\n",
    "\n",
    "def gradient2D(X):\n",
    "    # Ensure that X is a 2D array\n",
    "    if X.ndim != 2:\n",
    "        raise ValueError(\"Input matrix must be 2D.\")\n",
    "    \n",
    "    # Compute horizontal differences (X[:, n+1] - X[:, n])\n",
    "    D_h = np.c_[np.diff(X, axis=1), np.zeros((X.shape[0], 1))]  # Append zeros column\n",
    "\n",
    "    # Compute vertical differences (X[m+1, :] - X[m, :])\n",
    "    D_v = np.r_[np.diff(X, axis=0), np.zeros((1, X.shape[1]))]  # Append zeros row\n",
    "\n",
    "    return D_h, D_v\n"
   ]
  },
  {
   "cell_type": "markdown",
   "metadata": {},
   "source": [
    "2\\. Implement a unit-test to validate the behaviour of the `gradient2D` function. For instance, you can check the format of the output, and test the result when the function is evaluated on a constant matrix (for both a square and a non-square input matrix). Run the unit-test from the present Jupyter notebook."
   ]
  },
  {
   "cell_type": "markdown",
   "metadata": {},
   "source": [
    "**Answer**:"
   ]
  },
  {
   "cell_type": "code",
   "execution_count": 46,
   "metadata": {},
   "outputs": [
    {
     "name": "stdout",
     "output_type": "stream",
     "text": [
      "Test test_output_format: PASS\n",
      "Test test_constant_matrix_square: PASS\n",
      "Test test_constant_matrix_non_square: PASS\n"
     ]
    }
   ],
   "source": [
    "def test_output_format():\n",
    "    \"\"\"Test que la sortie de gradient2D a la même taille que l'entrée.\"\"\"\n",
    "    X = np.random.rand(4, 5)  # Matrice aléatoire non carrée\n",
    "    D_h, D_v = gradient2D(X)\n",
    "    assert D_h.shape == X.shape, \"La forme du gradient horizontal est incorrecte.\"\n",
    "    assert D_v.shape == X.shape, \"La forme du gradient vertical est incorrecte.\"\n",
    "    print(\"Test test_output_format: PASS\")\n",
    "\n",
    "# Test: Matrice constante carrée\n",
    "def test_constant_matrix_square():\n",
    "    \"\"\"Test que gradient2D renvoie des matrices de zéros pour une matrice carrée constante.\"\"\"\n",
    "    X = np.ones((3, 3))  # Matrice constante carrée\n",
    "    D_h, D_v = gradient2D(X)\n",
    "    assert np.all(D_h == 0), \"Le gradient horizontal doit être nul pour une matrice constante.\"\n",
    "    assert np.all(D_v == 0), \"Le gradient vertical doit être nul pour une matrice constante.\"\n",
    "    print(\"Test test_constant_matrix_square: PASS\")\n",
    "\n",
    "# Test: Matrice constante non carrée\n",
    "def test_constant_matrix_non_square():\n",
    "    \"\"\"Test que gradient2D renvoie des matrices de zéros pour une matrice non carrée constante.\"\"\"\n",
    "    X = np.ones((4, 5))  # Matrice constante non carrée\n",
    "    D_h, D_v = gradient2D(X)\n",
    "    assert np.all(D_h == 0), \"Le gradient horizontal doit être nul pour une matrice constante.\"\n",
    "    assert np.all(D_v == 0), \"Le gradient vertical doit être nul pour une matrice constante.\"\n",
    "    print(\"Test test_constant_matrix_non_square: PASS\")\n",
    "\n",
    "test_output_format()\n",
    "test_constant_matrix_square()\n",
    "test_constant_matrix_non_square()"
   ]
  },
  {
   "cell_type": "markdown",
   "metadata": {},
   "source": [
    "3\\. Document the function `gradient2D` with an appropriate docstring (see Lab 1)."
   ]
  },
  {
   "cell_type": "markdown",
   "metadata": {},
   "source": [
    "**Answer**:"
   ]
  },
  {
   "cell_type": "code",
   "execution_count": 47,
   "metadata": {},
   "outputs": [],
   "source": [
    "# Already commented on Question 1"
   ]
  },
  {
   "cell_type": "markdown",
   "metadata": {},
   "source": [
    "4\\. Using 1., define a function `tv` to compute $\\text{TV}(\\mathbf{X})$, $\\mathbf{X}\\in\\mathbb{C}^{M \\times N}$. Write a unit-test and document your function."
   ]
  },
  {
   "cell_type": "markdown",
   "metadata": {},
   "source": [
    "**Answer**:"
   ]
  },
  {
   "cell_type": "code",
   "execution_count": 48,
   "metadata": {},
   "outputs": [
    {
     "name": "stdout",
     "output_type": "stream",
     "text": [
      "Test test_tv_constant_matrix: PASS\n",
      "Test test_tv_simple_difference: PASS\n",
      "Test test_tv_square_matrix: PASS\n",
      "Test test_tv_invalid_input: PASS\n"
     ]
    }
   ],
   "source": [
    "import numpy as np\n",
    "\n",
    "def tv(X):\n",
    "    \"\"\"\n",
    "    Computes the isotropic total variation (TV) of a given matrix X.\n",
    "    \n",
    "    Parameters:\n",
    "    -----------\n",
    "    X : numpy.ndarray\n",
    "        Input matrix of shape (M, N), where M is the number of rows and N is the number of columns.\n",
    "    \n",
    "    Returns:\n",
    "    --------\n",
    "    float\n",
    "        The isotropic total variation of the matrix X.\n",
    "    \n",
    "    Raises:\n",
    "    -------\n",
    "    ValueError\n",
    "        If the input matrix X has more than 2 dimensions.\n",
    "    \"\"\"\n",
    "    # Compute the horizontal and vertical gradients using the previously defined gradient2D function\n",
    "    D_h, D_v = gradient2D(X)\n",
    "    \n",
    "    # Compute the total variation by summing the isotropic norm (sqrt of the sum of squares)\n",
    "    return np.sum(np.sqrt(D_h**2 + D_v**2))\n",
    "\n",
    "\n",
    "\n",
    "    #Unit Test : \n",
    "    # Test cases for the tv function\n",
    "def test_tv_constant_matrix():\n",
    "    \"\"\"Test that TV of a constant matrix is zero.\"\"\"\n",
    "    X = np.ones((4, 5))  # Constant matrix\n",
    "    result = tv(X)\n",
    "    assert result == 0, \"TV of a constant matrix should be 0.\"\n",
    "    print(\"Test test_tv_constant_matrix: PASS\")\n",
    "\n",
    "def test_tv_simple_difference():\n",
    "    \"\"\"Test that TV is correctly computed for a matrix with a single difference.\"\"\"\n",
    "    X = np.array([[1, 1, 1], [1, 2, 1], [1, 1, 1]])  # A small variation\n",
    "    result = tv(X)\n",
    "    expected_result = 2+np.sqrt(2)  # Because there are two non-zero gradients (in vertical and horizontal directions)\n",
    "    assert np.isclose(result, expected_result), f\"Expected TV to be {expected_result}, but got {result}.\"\n",
    "    print(\"Test test_tv_simple_difference: PASS\")\n",
    "\n",
    "def test_tv_square_matrix():\n",
    "    \"\"\"Test TV for a square matrix.\"\"\"\n",
    "    X = np.array([[0, 1], [1, 0]])  # Simple square matrix with some differences\n",
    "    result = tv(X)\n",
    "    expected_result = 2+np.sqrt(2)  # TV should be 4 due to multiple edges\n",
    "    assert np.isclose(result, expected_result), f\"Expected TV to be {expected_result}, but got {result}.\"\n",
    "    print(\"Test test_tv_square_matrix: PASS\")\n",
    "\n",
    "def test_tv_invalid_input():\n",
    "    \"\"\"Test that TV raises an error for invalid input.\"\"\"\n",
    "    X = np.ones((3, 3, 3))  # Invalid 3D input\n",
    "    try:\n",
    "        tv(X)\n",
    "    except ValueError:\n",
    "        print(\"Test test_tv_invalid_input: PASS\")\n",
    "    else:\n",
    "        print(\"Test test_tv_invalid_input: FAIL\")\n",
    "\n",
    "# Run the unit tests\n",
    "test_tv_constant_matrix()\n",
    "test_tv_simple_difference()\n",
    "test_tv_square_matrix()\n",
    "test_tv_invalid_input()\n",
    "\n"
   ]
  },
  {
   "cell_type": "markdown",
   "metadata": {},
   "source": [
    "5\\. Implement a function `gradient2D_adjoint` to compute $D^*(\\mathbf{Y})$, the adjoint of the 2D discrete gradient operator $D$ applied to $\\mathbf{Y}\\in\\mathbb{C}^{M \\times N}\\times \\mathbb{C}^{M \\times N}$. Add a few short comments to explain your code whenever appropriate."
   ]
  },
  {
   "cell_type": "markdown",
   "metadata": {},
   "source": [
    "**Answer**:"
   ]
  },
  {
   "cell_type": "code",
   "execution_count": 49,
   "metadata": {},
   "outputs": [],
   "source": [
    "import numpy as np\n",
    "\n",
    "def gradient2D_adjoint(Y_h, Y_v):\n",
    "    \"\"\"\n",
    "    Compute the adjoint of the 2D discrete gradient operator D.\n",
    "    \n",
    "    Parameters:\n",
    "    Y_h (numpy.ndarray): Horizontal gradient component of shape (M, N).\n",
    "    Y_v (numpy.ndarray): Vertical gradient component of shape (M, N).\n",
    "    \n",
    "    Returns:\n",
    "    numpy.ndarray: The adjoint D^* of the gradient operator applied to (Y_h, Y_v).\n",
    "    \"\"\"\n",
    "    \n",
    "    # Dimensions of the input gradient matrices\n",
    "    M, N = Y_h.shape\n",
    "    \n",
    "    # Adjoint of the horizontal gradient D_h*\n",
    "    adj_h = np.zeros((M, N), dtype=Y_h.dtype)\n",
    "    adj_h[:, 0] = -Y_h[:, 0]  # First column\n",
    "    adj_h[:, 1:N-1] = -(Y_h[:, 1:N-1] - Y_h[:, 0:N-2])  # Middle columns\n",
    "    adj_h[:, N-1] = Y_h[:, N-2]  # Last column\n",
    "    \n",
    "    # Adjoint of the vertical gradient D_v*\n",
    "    adj_v = np.zeros((M, N), dtype=Y_v.dtype)\n",
    "    adj_v[0, :] = -Y_v[0, :]  # First row\n",
    "    adj_v[1:M-1, :] = -(Y_v[1:M-1, :] - Y_v[0:M-2, :])  # Middle rows\n",
    "    adj_v[M-1, :] = Y_v[M-2, :]  # Last row\n",
    "    \n",
    "    # Combine adjoint contributions from horizontal and vertical components\n",
    "    return adj_h + adj_v\n"
   ]
  },
  {
   "cell_type": "markdown",
   "metadata": {},
   "source": [
    "6\\. Implement a unit-test to validate `gradient2D_adjoint`, e.g., by checking the size of the output from the function and verifying that `gradient2D_adjoint` is adjoint to `gradient2D`, i.e., for any $\\mathbf{X}\\in\\mathbb{C}^{M \\times N}$ and $\\mathbf{Y}\\in\\mathbb{C}^{M \\times N}\\times \\mathbb{C}^{M \\times N}$:\n",
    "\n",
    "\\begin{equation}\n",
    "    \\forall \\mathbf{X} \\in \\mathbb{C}^{M \\times N}, \\mathbf{Y} = (\\mathbf{Y}_h, \\mathbf{Y}_v) \\in \\mathbb{C}^{M \\times N} \\times \\mathbb{C}^{M \\times N}, \\;\n",
    "    %\n",
    "    \\langle D(\\mathbf{X}), \\mathbf{Y} \\rangle_{\\mathbb{C}^{M \\times N} \\times \\mathbb{C}^{M \\times N}} = \\langle \\mathbf{X}, D^*(\\mathbf{Y}) \\rangle_{\\mathbb{C}^{M \\times N}}, \n",
    "\\end{equation}\n",
    "\n",
    "where \n",
    "\n",
    "\\begin{align}\n",
    "    &\\forall \\mathbf{U}, \\mathbf{V} \\in \\mathbb{C}^{M \\times N}, \\; \\langle \\mathbf{U}, \\mathbf{V} \\rangle_{\\mathbb{C}^{M \\times N}} = \\text{Tr}(\\mathbf{U}^H \\mathbf{V}) = \\sum_{m=1}^M \\sum_{n=1}^N u_{m,n}^* v_{m,n}, \\\\\n",
    "    &\\forall \\mathbf{U} = (\\mathbf{U}_h, \\mathbf{U}_v), \\mathbf{V} = (\\mathbf{V}_h, \\mathbf{V}_v) \\in \\mathbb{C}^{M \\times N} \\times \\mathbb{C}^{M \\times N}, \\; \\langle \\mathbf{U}, \\mathbf{V} \\rangle_{\\mathbb{C}^{M \\times N} \\times \\mathbb{C}^{M \\times N}} = \\langle \\mathbf{U}_h, \\mathbf{V}_h \\rangle_{\\mathbb{C}^{M \\times N}} + \\langle \\mathbf{U}_v, \\mathbf{V}_v \\rangle_{\\mathbb{C}^{M \\times N}}.\n",
    "\\end{align}\n",
    "\n",
    "> Hint: to verify `gradient2D_adjoint` is the adjoint of `gradient2D`, evaluate the scalar products above for randomly drawn matrices. Set the random generator to a known state for reproducibility (see [Exercise 1](#ex1))."
   ]
  },
  {
   "cell_type": "markdown",
   "metadata": {},
   "source": [
    "**Answer**:"
   ]
  },
  {
   "cell_type": "code",
   "execution_count": 50,
   "metadata": {},
   "outputs": [
    {
     "name": "stdout",
     "output_type": "stream",
     "text": [
      "<D(X), Y> = (14.749474257802822+1.2256157893788497j)\n",
      "<X, D*(Y)> = (14.749474257802818+1.2256157893788515j)\n",
      "Test passed: <D(X), Y> == <X, D*(Y)>\n"
     ]
    }
   ],
   "source": [
    "import numpy as np\n",
    "\n",
    "def inner_product_2D(A, B):\n",
    "    \"\"\"\n",
    "    Compute the inner product <A, B> for matrices A, B in C^{M x N}.\n",
    "    This corresponds to Tr(A^H B) = sum(A^* B), where * denotes the conjugate transpose.\n",
    "    \n",
    "    Parameters:\n",
    "    A, B (numpy.ndarray): Input matrices of shape (M, N).\n",
    "    \n",
    "    Returns:\n",
    "    float: The inner product <A, B>.\n",
    "    \"\"\"\n",
    "    return np.sum(np.conj(A) * B)\n",
    "\n",
    "def inner_product_gradient(U_h, U_v, V_h, V_v):\n",
    "    \"\"\"\n",
    "    Compute the inner product <(U_h, U_v), (V_h, V_v)> for gradient-like structures\n",
    "    in C^{M x N} x C^{M x N}.\n",
    "    \n",
    "    Parameters:\n",
    "    U_h, U_v (numpy.ndarray): Horizontal and vertical components of the first gradient.\n",
    "    V_h, V_v (numpy.ndarray): Horizontal and vertical components of the second gradient.\n",
    "    \n",
    "    Returns:\n",
    "    float: The inner product <(U_h, U_v), (V_h, V_v)>.\n",
    "    \"\"\"\n",
    "    return inner_product_2D(U_h, V_h) + inner_product_2D(U_v, V_v)\n",
    "\n",
    "def test_gradient2D_adjoint():\n",
    "    \"\"\"\n",
    "    Test if the adjoint gradient2D_adjoint is indeed the adjoint of gradient2D.\n",
    "    \"\"\"\n",
    "    np.random.seed(0)  # Set seed for reproducibility\n",
    "    \n",
    "    # Create random complex matrices X and (Y_h, Y_v)\n",
    "    M, N = 4, 4\n",
    "    X = np.random.randn(M, N) + 1j * np.random.randn(M, N)\n",
    "    Y_h = np.random.randn(M, N) + 1j * np.random.randn(M, N)\n",
    "    Y_v = np.random.randn(M, N) + 1j * np.random.randn(M, N)\n",
    "    \n",
    "    # Compute D(X) = (D_h(X), D_v(X))\n",
    "    D_h, D_v = gradient2D(X)\n",
    "    \n",
    "    # Compute D*(Y) = gradient2D_adjoint(Y_h, Y_v)\n",
    "    adj_D_Y = gradient2D_adjoint(Y_h, Y_v)\n",
    "    \n",
    "    # Compute <D(X), Y> = <(D_h(X), D_v(X)), (Y_h, Y_v)>\n",
    "    lhs = inner_product_gradient(D_h, D_v, Y_h, Y_v)\n",
    "    \n",
    "    # Compute <X, D*(Y)>\n",
    "    rhs = inner_product_2D(X, adj_D_Y)\n",
    "    \n",
    "    # Print the results for comparison\n",
    "    print(f\"<D(X), Y> = {lhs}\")\n",
    "    print(f\"<X, D*(Y)> = {rhs}\")\n",
    "    \n",
    "    # Check if both are (approximately) equal\n",
    "    assert np.allclose(lhs, rhs), \"The adjoint test failed! <D(X), Y> != <X, D*(Y)>\"\n",
    "    print(\"Test passed: <D(X), Y> == <X, D*(Y)>\")\n",
    "\n",
    "# Run the unit-test\n",
    "test_gradient2D_adjoint()\n"
   ]
  },
  {
   "cell_type": "markdown",
   "metadata": {},
   "source": [
    "[Bonus, **optional**]. Generalize the `gradient2D` to any number of dimensions ($\\mathbf{X} \\in \\mathbb{C}^{N_1 \\times N_2 \\times \\dotsc \\times N_p}$), i.e., by returning tensors obtained by computing differences along each of its dimensions.\n",
    "> Hint: \n",
    "> - you may use a loops here, and/or list comprehension. Using slice objects (see [np.s_](https://numpy.org/doc/stable/reference/generated/numpy.s_.html?highlight=s_#numpy.s_) and [this page](https://stackoverflow.com/questions/24432209/python-index-an-array-using-the-colon-operator-in-an-arbitrary-dimension)) can be an interesting option.\n",
    ">\n",
    "> - the definition of the scalar product above can be extended to the case of tensors as follows:\n",
    "> \\begin{equation}\n",
    "    \\mathbf{U}, \\mathbf{V} \\in \\mathbb{C}^{N_1 \\times N_2 \\times \\dotsc \\times N_p}, \\; \\langle \\mathbf{U}, \\mathbf{V} \\rangle_{\\mathbb{C}^{N_1 \\times N_2 \\times \\dotsc \\times N_p}} =  \\sum_{n_1 = 1}^{N_1}  \\sum_{n_2 = 1}^{N_2} \\dotsc \\sum_{n_p = 1}^{N_p} u_{n_1, n_2, \\dotsc, n_p}^* v_{n_1, n_2, \\dotsc, n_p}   \n",
    "\\end{equation}"
   ]
  },
  {
   "cell_type": "markdown",
   "metadata": {},
   "source": [
    "**Answer**:"
   ]
  },
  {
   "cell_type": "code",
   "execution_count": 51,
   "metadata": {},
   "outputs": [
    {
     "name": "stdout",
     "output_type": "stream",
     "text": [
      "Gradient along dimension 0: shape = (4, 4, 4)\n",
      "Gradient along dimension 1: shape = (4, 4, 4)\n",
      "Gradient along dimension 2: shape = (4, 4, 4)\n",
      "Produit scalaire <U, V> : (7.428701069935994+2.937336754479237j)\n"
     ]
    }
   ],
   "source": [
    "import numpy as np\n",
    "\n",
    "def gradientND(X):\n",
    "    \"\"\"\n",
    "    Compute the N-dimensional discrete gradient of a tensor X.\n",
    "    \n",
    "    Parameters:\n",
    "    X (numpy.ndarray): Input tensor of shape (N1, N2, ..., Np).\n",
    "    \n",
    "    Returns:\n",
    "    tuple: A tuple containing the gradients along each dimension.\n",
    "    \"\"\"\n",
    "    # Vérification de la dimension d'entrée\n",
    "    assert X.ndim > 1, \"L'entrée doit avoir au moins 2 dimensions.\"\n",
    "    \n",
    "    # Initialisation de la liste pour stocker les gradients\n",
    "    gradients = []\n",
    "    \n",
    "    # Calcul des différences le long de chaque dimension\n",
    "    for axis in range(X.ndim):\n",
    "        # Calculer la forme de prepend\n",
    "        prepend_shape = list(X.shape)\n",
    "        prepend_shape[axis] = 1\n",
    "        \n",
    "        # Créer une matrice de préfixe\n",
    "        prepend_value = np.zeros(prepend_shape, dtype=X.dtype)\n",
    "        grad = np.diff(X, axis=axis, prepend=prepend_value)  # prepend pour maintenir la même forme\n",
    "        gradients.append(grad)\n",
    "    \n",
    "    return tuple(gradients)\n",
    "\n",
    "# Exemple d'utilisation\n",
    "X = np.random.randn(4, 4, 4) + 1j * np.random.randn(4, 4, 4)\n",
    "gradients = gradientND(X)\n",
    "\n",
    "# Afficher les formes des gradients calculés\n",
    "for i, g in enumerate(gradients):\n",
    "    print(f\"Gradient along dimension {i}: shape = {g.shape}\")\n",
    "\n",
    "\n",
    "\n",
    "\n",
    "\n",
    "\n",
    "def inner_product_tensor(U, V):\n",
    "    \"\"\"\n",
    "    Compute the inner product of two tensors U and V.\n",
    "    \n",
    "    Parameters:\n",
    "    U, V (numpy.ndarray): Input tensors of the same shape.\n",
    "    \n",
    "    Returns:\n",
    "    float: The inner product <U, V>.\n",
    "    \"\"\"\n",
    "    return np.sum(U.conj() * V)\n",
    "    \n",
    "# Exemple de création de tenseurs\n",
    "U = np.random.randn(3, 3, 3) + 1j * np.random.randn(3, 3, 3)  # Tenseur U\n",
    "V = np.random.randn(3, 3, 3) + 1j * np.random.randn(3, 3, 3)  # Tenseur V\n",
    "\n",
    "# Calcul du produit scalaire\n",
    "inner_product = inner_product_tensor(U, V)\n",
    "\n",
    "# Affichage du résultat\n",
    "print(\"Produit scalaire <U, V> :\", inner_product)\n",
    "\n"
   ]
  },
  {
   "cell_type": "markdown",
   "metadata": {},
   "source": [
    "## Reference\n",
    "\n",
    "```bibtex\n",
    "@article{condat:hal-01309685,\n",
    "  TITLE = {{Discrete Total Variation: New Definition and Minimization}},\n",
    "  AUTHOR = {Condat, Laurent},\n",
    "  URL = {https://hal.archives-ouvertes.fr/hal-01309685},\n",
    "  JOURNAL = {{SIAM Journal on Imaging Sciences}},\n",
    "  PUBLISHER = {{Society for Industrial and Applied Mathematics}},\n",
    "  VOLUME = {10},\n",
    "  NUMBER = {3},\n",
    "  PAGES = {1258--1290},\n",
    "  YEAR = {2017},\n",
    "  MONTH = Aug,\n",
    "  DOI = {10.1137/16M1075247},\n",
    "  KEYWORDS = { variational image processing ; total variation ;  finite-difference schemes ;  coarea formula},\n",
    "  PDF = {https://hal.archives-ouvertes.fr/hal-01309685v3/file/Condat-newTV.pdf},\n",
    "  HAL_ID = {hal-01309685},\n",
    "  HAL_VERSION = {v3},\n",
    "}\n",
    "```\n"
   ]
  }
 ],
 "metadata": {
  "kernelspec": {
   "display_name": "Python 3.12.4 64-bit",
   "language": "python",
   "name": "python3"
  },
  "language_info": {
   "codemirror_mode": {
    "name": "ipython",
    "version": 3
   },
   "file_extension": ".py",
   "mimetype": "text/x-python",
   "name": "python",
   "nbconvert_exporter": "python",
   "pygments_lexer": "ipython3",
   "version": "3.12.4"
  },
  "vscode": {
   "interpreter": {
    "hash": "aee8b7b246df8f9039afb4144a1f6fd8d2ca17a180786b69acc140d282b71a49"
   }
  }
 },
 "nbformat": 4,
 "nbformat_minor": 4
}
